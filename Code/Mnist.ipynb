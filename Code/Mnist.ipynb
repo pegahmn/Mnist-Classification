{
 "cells": [
  {
   "cell_type": "code",
   "execution_count": 1,
   "id": "48531a82",
   "metadata": {},
   "outputs": [],
   "source": [
    "import pandas as pd \n",
    "import numpy as np\n",
    "import matplotlib.pyplot as plt\n",
    "\n",
    "from sklearn.model_selection import train_test_split\n",
    "from sklearn import datasets,metrics,svm\n",
    "from sklearn.metrics import accuracy_score,recall_score, precision_score, f1_score, confusion_matrix\n",
    "\n",
    "from sklearn.linear_model import LogisticRegression #Logical Regression\n",
    "from sklearn.neighbors import KNeighborsClassifier # K_NN\n",
    "from sklearn.naive_bayes import GaussianNB, MultinomialNB, BernoulliNB #Naive Bayes\n",
    "from sklearn.ensemble import RandomForestClassifier     #Random Forest \n",
    "\n",
    "from sklearn.model_selection import KFold, RepeatedKFold, cross_val_score, StratifiedKFold"
   ]
  },
  {
   "cell_type": "code",
   "execution_count": 2,
   "id": "886a24c8",
   "metadata": {
    "scrolled": false
   },
   "outputs": [],
   "source": [
    "digits=datasets.load_digits()\n",
    "#digits"
   ]
  },
  {
   "cell_type": "code",
   "execution_count": 3,
   "id": "8e9a7d86",
   "metadata": {
    "scrolled": true
   },
   "outputs": [],
   "source": [
    "#digits.keys()"
   ]
  },
  {
   "cell_type": "code",
   "execution_count": 4,
   "id": "40a3afd4",
   "metadata": {
    "scrolled": true
   },
   "outputs": [],
   "source": [
    "dg = pd.DataFrame(digits.data)\n",
    "#dg"
   ]
  },
  {
   "cell_type": "code",
   "execution_count": 5,
   "id": "bc2eb68f",
   "metadata": {
    "scrolled": true
   },
   "outputs": [],
   "source": [
    "#digits['target'].shape"
   ]
  },
  {
   "cell_type": "code",
   "execution_count": 6,
   "id": "8394a517",
   "metadata": {
    "scrolled": false
   },
   "outputs": [],
   "source": [
    "dg['class']=digits['target']\n",
    "#dg"
   ]
  },
  {
   "cell_type": "code",
   "execution_count": 7,
   "id": "7fefc378",
   "metadata": {},
   "outputs": [],
   "source": [
    "def mdl_reg(df):\n",
    "    X_train,X_test,y_train,y_test=train_test_split(df.drop(['class'], axis=1),df['class'], test_size=0.2, random_state=42)\n",
    "    clf=LogisticRegression()\n",
    "    model=clf.fit(X_train,y_train)\n",
    "    pr_y=pd.DataFrame(model.predict(X_test))\n",
    "    print(confusion_matrix(y_test,pr_y))\n",
    "    print('Accuracy Score : ', accuracy_score(y_test, model.predict(X_test)))\n",
    "    print('Recall Score : ', recall_score(y_test,pr_y, average='micro'))\n",
    "    print('Precision Score : ', precision_score(y_test,pr_y, average='micro'))\n",
    "    print('F1 : ', f1_score(y_test,pr_y, average='micro'))\n",
    "    \n",
    "#mdl_reg(dg)"
   ]
  },
  {
   "cell_type": "code",
   "execution_count": 8,
   "id": "f538b02c",
   "metadata": {},
   "outputs": [],
   "source": [
    "def mdl_knn (df):\n",
    "    X_train,X_test,y_train,y_test= train_test_split(df.drop(['class'], axis=1),df['class'], test_size=0.2, random_state=42)\n",
    "    clf = KNeighborsClassifier(n_neighbors = 6,metric='minkowski', p=2)\n",
    "    model=clf.fit(X_train,y_train)\n",
    "    pr_y=model.predict(X_test)\n",
    "    print(confusion_matrix(y_test,pr_y))\n",
    "    print('Accuracy Score : ', accuracy_score(y_test, model.predict(X_test)))\n",
    "    print('Recall Score : ', recall_score(y_test,pr_y, average='micro'))\n",
    "    print('Precision Score : ', precision_score(y_test,pr_y, average='micro'))\n",
    "    print('F1 Score : ', f1_score(y_test,pr_y, average='micro'))\n",
    "    \n",
    "#mdl_knn(dg)    "
   ]
  },
  {
   "cell_type": "code",
   "execution_count": 9,
   "id": "a880b91c",
   "metadata": {
    "scrolled": true
   },
   "outputs": [],
   "source": [
    "#SVM\n",
    "# Linear SVM\n",
    "def mdl_svc(df):\n",
    "    X_train,X_test,y_train,y_test= train_test_split(df.drop(['class'], axis=1),df['class'], test_size=0.2, random_state=42)\n",
    "    clf = svm.SVC(kernel='linear', random_state = 0)\n",
    "    model=clf.fit(X_train,y_train)\n",
    "    pr_y=model.predict(X_test)\n",
    "    print(confusion_matrix(y_test,pr_y))\n",
    "    print('Accuracy Score : ', accuracy_score(y_test, model.predict(X_test)))\n",
    "    print('Recall Score : ', recall_score(y_test,pr_y, average='micro'))\n",
    "    print('Precision Score : ', precision_score(y_test,pr_y, average='micro'))\n",
    "    print('F1 Score : ', f1_score(y_test,pr_y, average='micro'))\n",
    "    \n",
    "    \n",
    "#mdl_svc(dg)"
   ]
  },
  {
   "cell_type": "code",
   "execution_count": 10,
   "id": "4a2af779",
   "metadata": {
    "scrolled": true
   },
   "outputs": [],
   "source": [
    "#Non_Linear SVM \n",
    "def mdl_nusvc(df):\n",
    "    X_train,X_test,y_train,y_test= train_test_split(df.drop(['class'], axis=1),df['class'], test_size=0.2, random_state=42)\n",
    "    #clf=svm.SVC(kernel='poly')\n",
    "    clf = svm.NuSVC(gamma='auto')\n",
    "    model=clf.fit(X_train,y_train)\n",
    "    pr_y=model.predict(X_test)\n",
    "    print(confusion_matrix(y_test,pr_y))\n",
    "    print('Accuracy Score : ', accuracy_score(y_test, model.predict(X_test)))\n",
    "    print('Recall Score : ', recall_score(y_test,pr_y, average='micro'))\n",
    "    print('Precision Score : ', precision_score(y_test,pr_y, average='micro'))\n",
    "    print('F1 Score : ', f1_score(y_test,pr_y, average='micro'))\n",
    "    \n",
    "    \n",
    "#mdl_nusvc(dg)"
   ]
  },
  {
   "cell_type": "code",
   "execution_count": 11,
   "id": "07121965",
   "metadata": {
    "scrolled": true
   },
   "outputs": [],
   "source": [
    "#Naive Bayes\n",
    "\n",
    "def mdl_gaussian(df):\n",
    "    X_train,X_test,y_train,y_test= train_test_split(df.drop(['class'], axis=1),df['class'], test_size=0.2, random_state=42)\n",
    "    clf = GaussianNB()\n",
    "    model=clf.fit(X_train,y_train)\n",
    "    pr_y=model.predict(X_test)\n",
    "    print(confusion_matrix(y_test,pr_y))\n",
    "    print('Accuracy Score : ', accuracy_score(y_test, model.predict(X_test)))\n",
    "    print('Recall Score : ', recall_score(y_test,pr_y, average='micro'))\n",
    "    print('Precision Score : ', precision_score(y_test,pr_y, average='micro'))\n",
    "    print('F1 Score : ', f1_score(y_test,pr_y, average='micro'))\n",
    "    \n",
    "    \n",
    "#mdl_gaussian(dg)"
   ]
  },
  {
   "cell_type": "code",
   "execution_count": 12,
   "id": "f91410fa",
   "metadata": {
    "scrolled": true
   },
   "outputs": [],
   "source": [
    "def mdl_multinomial(df):\n",
    "    X_train,X_test,y_train,y_test= train_test_split(df.drop(['class'], axis=1),df['class'], test_size=0.2, random_state=42)\n",
    "    clf = MultinomialNB()\n",
    "    model=clf.fit(X_train,y_train)\n",
    "    pr_y=model.predict(X_test)\n",
    "    print(confusion_matrix(y_test,pr_y))\n",
    "    print('Accuracy Score : ', accuracy_score(y_test, model.predict(X_test)))\n",
    "    print('Recall Score : ', recall_score(y_test,pr_y, average='micro'))\n",
    "    print('Precision Score : ', precision_score(y_test,pr_y, average='micro'))\n",
    "    print('F1 Score : ', f1_score(y_test,pr_y, average='micro'))\n",
    "    \n",
    "    \n",
    "#mdl_multinomial(dg)"
   ]
  },
  {
   "cell_type": "code",
   "execution_count": 13,
   "id": "d26cdccb",
   "metadata": {
    "scrolled": true
   },
   "outputs": [],
   "source": [
    "def mdl_bernoulli(df):\n",
    "    X_train,X_test,y_train,y_test= train_test_split(df.drop(['class'], axis=1),df['class'], test_size=0.2, random_state=42)\n",
    "    clf = BernoulliNB()\n",
    "    model=clf.fit(X_train,y_train)\n",
    "    pr_y=model.predict(X_test)\n",
    "    print(confusion_matrix(y_test,pr_y))\n",
    "    print('Accuracy Score : ', accuracy_score(y_test, model.predict(X_test)))\n",
    "    print('Recall Score : ', recall_score(y_test,pr_y, average='micro'))\n",
    "    print('Precision Score : ',precision_score(y_test,pr_y, average='micro'))\n",
    "    print('F1 Score : ', f1_score(y_test,pr_y, average='micro'))\n",
    "    \n",
    "    \n",
    "#mdl_bernoulli(dg)"
   ]
  },
  {
   "cell_type": "code",
   "execution_count": 14,
   "id": "7a669d6d",
   "metadata": {},
   "outputs": [],
   "source": [
    "#Random Forest \n",
    "def rand_forest(df):\n",
    "    X_train,X_test,y_train,y_test= train_test_split(df.drop(['class'], axis=1),df['class'], test_size=0.2, random_state=42)\n",
    "    clf = RandomForestClassifier(n_estimators=10, criterion=\"entropy\")\n",
    "    model=clf.fit(X_train,y_train)\n",
    "    pr_y=model.predict(X_test)\n",
    "    print(confusion_matrix(y_test,pr_y))\n",
    "    print('Accuracy Scor e : ', accuracy_score(y_test, model.predict(X_test)))\n",
    "    print('Recall Score : ', recall_score(y_test,pr_y, average='micro'))\n",
    "    print('Precision Score : ', precision_score(y_test,pr_y, average='micro'))\n",
    "    print('F1 Score : ', f1_score(y_test,pr_y, average='micro'))\n",
    "    \n",
    "    \n",
    "#rand_forest(dg)\n"
   ]
  },
  {
   "cell_type": "code",
   "execution_count": 15,
   "id": "4450ba13",
   "metadata": {
    "scrolled": true
   },
   "outputs": [
    {
     "data": {
      "text/plain": [
       "<matplotlib.image.AxesImage at 0x2151e8d0fa0>"
      ]
     },
     "execution_count": 15,
     "metadata": {},
     "output_type": "execute_result"
    },
    {
     "data": {
      "image/png": "[encoded data removed]",
      "text/plain": [
       "<Figure size 432x288 with 1 Axes>"
      ]
     },
     "metadata": {
      "needs_background": "light"
     },
     "output_type": "display_data"
    }
   ],
   "source": [
    "plt.imshow(dg.loc[70].drop('class').values.reshape(8, 8), cmap=plt.cm.gray_r, interpolation=\"nearest\")"
   ]
  },
  {
   "cell_type": "code",
   "execution_count": 16,
   "id": "fa8bf4a8",
   "metadata": {
    "scrolled": false
   },
   "outputs": [
    {
     "name": "stdout",
     "output_type": "stream",
     "text": [
      "Accuracy Score :  0.9916666666666667\n",
      "Recall Score :  0.9916666666666667\n",
      "Precision Score :  0.9916666666666667\n",
      "F1 Score :  0.9916666666666667\n",
      "Accuracy Score :  0.9805555555555555\n",
      "Recall Score :  0.9805555555555555\n",
      "Precision Score :  0.9805555555555555\n",
      "F1 Score :  0.9805555555555555\n",
      "Accuracy Score :  0.9665738161559888\n",
      "Recall Score :  0.9665738161559888\n",
      "Precision Score :  0.9665738161559888\n",
      "F1 Score :  0.9665738161559888\n",
      "Accuracy Score :  0.9832869080779945\n",
      "Recall Score :  0.9832869080779945\n",
      "Precision Score :  0.9832869080779945\n",
      "F1 Score :  0.9832869080779945\n",
      "Accuracy Score :  0.9777158774373259\n",
      "Recall Score :  0.9777158774373259\n",
      "Precision Score :  0.9777158774373259\n",
      "F1 Score :  0.9777158774373259\n"
     ]
    }
   ],
   "source": [
    "#SVM\n",
    "#Linear SVM\n",
    "#KFold\n",
    "def mdl_svc(df):\n",
    "    X = np.array(df.drop(['class'], axis=1))\n",
    "    y = np.array(df['class'])\n",
    "    kf=KFold(n_splits=5, shuffle=True)\n",
    "    clf = svm.SVC(kernel='linear', random_state = 0)\n",
    "   \n",
    "    \n",
    "    for train, test in kf.split(df):\n",
    "        X_train, X_test, y_train, y_test=X[train], X[test], y[train], y[test]\n",
    "        model=clf.fit(X_train,y_train)\n",
    "        pr_y=model.predict(X_test)\n",
    "        print('Accuracy Score : ', accuracy_score(y_test, model.predict(X_test)))\n",
    "        print('Recall Score : ', recall_score(y_test,pr_y, average='micro'))\n",
    "        print('Precision Score : ', precision_score(y_test,pr_y, average='micro'))\n",
    "        print('F1 Score : ', f1_score(y_test,pr_y, average='micro'))\n",
    "    \n",
    "    \n",
    "mdl_svc(dg)"
   ]
  },
  {
   "cell_type": "code",
   "execution_count": 17,
   "id": "1cd4ae1b",
   "metadata": {},
   "outputs": [],
   "source": [
    "def mdl_svc(df):\n",
    "    X = np.array(df.drop(['class'], axis=1))\n",
    "    y = np.array(df['class'])\n",
    "    skf=StratifiedKFold(n_splits=2)\n",
    "    clf = svm.SVC(kernel='linear', random_state = 0)\n",
    "   \n",
    "    \n",
    "    for train, test in kf.split(df):\n",
    "        X_train, X_test, y_train, y_test=X[train], X[test], y[train], y[test]\n",
    "        model=clf.fit(X_train,y_train)\n",
    "        pr_y=model.predict(X_test)\n",
    "        print('Accuracy Score : ', accuracy_score(y_test, model.predict(X_test)))\n",
    "        print('Recall Score : ', recall_score(y_test,pr_y, average='micro'))\n",
    "        print('Precision Score : ', precision_score(y_test,pr_y, average='micro'))\n",
    "        print('F1 Score : ', f1_score(y_test,pr_y, average='micro'))\n",
    "    \n",
    "    \n",
    "#mdl_svc(dg)"
   ]
  }
 ],
 "metadata": {
  "kernelspec": {
   "display_name": "Python 3 (ipykernel)",
   "language": "python",
   "name": "python3"
  },
  "language_info": {
   "codemirror_mode": {
    "name": "ipython",
    "version": 3
   },
   "file_extension": ".py",
   "mimetype": "text/x-python",
   "name": "python",
   "nbconvert_exporter": "python",
   "pygments_lexer": "ipython3",
   "version": "3.9.7"
  }
 },
 "nbformat": 4,
 "nbformat_minor": 5
}
